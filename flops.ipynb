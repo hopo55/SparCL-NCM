{
 "cells": [
  {
   "cell_type": "code",
   "execution_count": 1,
   "metadata": {},
   "outputs": [],
   "source": [
    "import torch\n",
    "from models.resnet18_cifar import resnet18, NCM"
   ]
  },
  {
   "cell_type": "markdown",
   "metadata": {},
   "source": [
    "# THOP"
   ]
  },
  {
   "cell_type": "code",
   "execution_count": 2,
   "metadata": {},
   "outputs": [],
   "source": [
    "from thop import profile"
   ]
  },
  {
   "cell_type": "markdown",
   "metadata": {},
   "source": [
    "### ResNet18"
   ]
  },
  {
   "cell_type": "code",
   "execution_count": 3,
   "metadata": {},
   "outputs": [
    {
     "name": "stdout",
     "output_type": "stream",
     "text": [
      "[INFO] Register count_convNd() for <class 'torch.nn.modules.conv.Conv2d'>.\n",
      "[INFO] Register count_normalization() for <class 'torch.nn.modules.batchnorm.BatchNorm2d'>.\n",
      "[INFO] Register zero_ops() for <class 'torch.nn.modules.container.Sequential'>.\n",
      "[INFO] Register count_linear() for <class 'torch.nn.modules.linear.Linear'>.\n",
      "[INFO] Register zero_ops() for <class 'torch.nn.modules.activation.ReLU'>.\n",
      "4\n",
      "2231505920.0\n",
      "22342794.0\n"
     ]
    }
   ],
   "source": [
    "model = resnet18('seq-cifar10')\n",
    "input = torch.randn(1, 3, 32, 32)\n",
    "macs, params = profile(model, inputs=(input,))\n",
    "\n",
    "print(macs)\n",
    "print(params)"
   ]
  },
  {
   "cell_type": "markdown",
   "metadata": {},
   "source": [
    "### pytorch-estimate-flops"
   ]
  },
  {
   "cell_type": "code",
   "execution_count": 4,
   "metadata": {},
   "outputs": [],
   "source": [
    "from pthflops import count_ops"
   ]
  },
  {
   "cell_type": "code",
   "execution_count": 5,
   "metadata": {},
   "outputs": [
    {
     "name": "stdout",
     "output_type": "stream",
     "text": [
      "Proxy(getitem)\n"
     ]
    },
    {
     "ename": "TypeError",
     "evalue": "avg_pool2d(): argument 'kernel_size' (position 2) must be tuple of ints, not Proxy",
     "output_type": "error",
     "traceback": [
      "\u001b[0;31m---------------------------------------------------------------------------\u001b[0m",
      "\u001b[0;31mTypeError\u001b[0m                                 Traceback (most recent call last)",
      "\u001b[1;32m/home/heonsung/Desktop/SparCL/flops.ipynb Cell 8\u001b[0m line \u001b[0;36m4\n\u001b[1;32m      <a href='vscode-notebook-cell://ssh-remote%2Bcal-05/home/heonsung/Desktop/SparCL/flops.ipynb#W6sdnNjb2RlLXJlbW90ZQ%3D%3D?line=0'>1</a>\u001b[0m model \u001b[39m=\u001b[39m resnet18(\u001b[39m'\u001b[39m\u001b[39mseq-cifar10\u001b[39m\u001b[39m'\u001b[39m)\n\u001b[1;32m      <a href='vscode-notebook-cell://ssh-remote%2Bcal-05/home/heonsung/Desktop/SparCL/flops.ipynb#W6sdnNjb2RlLXJlbW90ZQ%3D%3D?line=1'>2</a>\u001b[0m \u001b[39minput\u001b[39m \u001b[39m=\u001b[39m torch\u001b[39m.\u001b[39mrandn(\u001b[39m1\u001b[39m, \u001b[39m3\u001b[39m, \u001b[39m32\u001b[39m, \u001b[39m32\u001b[39m)\n\u001b[0;32m----> <a href='vscode-notebook-cell://ssh-remote%2Bcal-05/home/heonsung/Desktop/SparCL/flops.ipynb#W6sdnNjb2RlLXJlbW90ZQ%3D%3D?line=3'>4</a>\u001b[0m count_ops(model, \u001b[39minput\u001b[39;49m)\n",
      "File \u001b[0;32m~/miniconda3/envs/lab/lib/python3.10/site-packages/pthflops/__init__.py:14\u001b[0m, in \u001b[0;36mcount_ops\u001b[0;34m(model, input, mode, custom_ops, ignore_layers, print_readable, verbose, *args)\u001b[0m\n\u001b[1;32m     12\u001b[0m \u001b[39mdef\u001b[39;00m \u001b[39mcount_ops\u001b[39m(model, \u001b[39minput\u001b[39m, mode\u001b[39m=\u001b[39m\u001b[39m'\u001b[39m\u001b[39mfx\u001b[39m\u001b[39m'\u001b[39m, custom_ops\u001b[39m=\u001b[39m{}, ignore_layers\u001b[39m=\u001b[39m[], print_readable\u001b[39m=\u001b[39m\u001b[39mTrue\u001b[39;00m, verbose\u001b[39m=\u001b[39m\u001b[39mTrue\u001b[39;00m, \u001b[39m*\u001b[39margs):\n\u001b[1;32m     13\u001b[0m     \u001b[39mif\u001b[39;00m \u001b[39m'\u001b[39m\u001b[39mfx\u001b[39m\u001b[39m'\u001b[39m \u001b[39m==\u001b[39m mode \u001b[39mand\u001b[39;00m \u001b[39mnot\u001b[39;00m force_jit:\n\u001b[0;32m---> 14\u001b[0m         \u001b[39mreturn\u001b[39;00m count_ops_fx(\n\u001b[1;32m     15\u001b[0m             model,\n\u001b[1;32m     16\u001b[0m             \u001b[39minput\u001b[39;49m,\n\u001b[1;32m     17\u001b[0m             custom_ops\u001b[39m=\u001b[39;49mcustom_ops,\n\u001b[1;32m     18\u001b[0m             ignore_layers\u001b[39m=\u001b[39;49mignore_layers,\n\u001b[1;32m     19\u001b[0m             print_readable\u001b[39m=\u001b[39;49mprint_readable,\n\u001b[1;32m     20\u001b[0m             verbose\u001b[39m=\u001b[39;49mverbose,\n\u001b[1;32m     21\u001b[0m             \u001b[39m*\u001b[39;49margs)\n\u001b[1;32m     22\u001b[0m     \u001b[39melif\u001b[39;00m \u001b[39m'\u001b[39m\u001b[39mjit\u001b[39m\u001b[39m'\u001b[39m \u001b[39m==\u001b[39m mode \u001b[39mor\u001b[39;00m force_jit:\n\u001b[1;32m     23\u001b[0m         \u001b[39mif\u001b[39;00m force_jit:\n",
      "File \u001b[0;32m~/miniconda3/envs/lab/lib/python3.10/site-packages/pthflops/ops_fx.py:254\u001b[0m, in \u001b[0;36mcount_ops_fx\u001b[0;34m(model, input, custom_ops, ignore_layers, print_readable, verbose, *args)\u001b[0m\n\u001b[1;32m    251\u001b[0m model_status \u001b[39m=\u001b[39m model\u001b[39m.\u001b[39mtraining\n\u001b[1;32m    252\u001b[0m model\u001b[39m.\u001b[39meval()\n\u001b[0;32m--> 254\u001b[0m tracer \u001b[39m=\u001b[39m ProfilingInterpreter(model, custom_ops\u001b[39m=\u001b[39;49mcustom_ops)\n\u001b[1;32m    255\u001b[0m tracer\u001b[39m.\u001b[39mrun(\u001b[39minput\u001b[39m)\n\u001b[1;32m    257\u001b[0m ops \u001b[39m=\u001b[39m \u001b[39m0\u001b[39m\n",
      "File \u001b[0;32m~/miniconda3/envs/lab/lib/python3.10/site-packages/pthflops/ops_fx.py:183\u001b[0m, in \u001b[0;36mProfilingInterpreter.__init__\u001b[0;34m(self, mod, custom_ops)\u001b[0m\n\u001b[1;32m    182\u001b[0m \u001b[39mdef\u001b[39;00m \u001b[39m__init__\u001b[39m(\u001b[39mself\u001b[39m, mod: torch\u001b[39m.\u001b[39mnn\u001b[39m.\u001b[39mModule, custom_ops: Dict[\u001b[39mstr\u001b[39m, Any] \u001b[39m=\u001b[39m {}):\n\u001b[0;32m--> 183\u001b[0m     gm \u001b[39m=\u001b[39m torch\u001b[39m.\u001b[39;49mfx\u001b[39m.\u001b[39;49msymbolic_trace(mod)\n\u001b[1;32m    184\u001b[0m     \u001b[39msuper\u001b[39m()\u001b[39m.\u001b[39m\u001b[39m__init__\u001b[39m(gm)\n\u001b[1;32m    186\u001b[0m     \u001b[39mself\u001b[39m\u001b[39m.\u001b[39mcustom_ops \u001b[39m=\u001b[39m custom_ops\n",
      "File \u001b[0;32m~/miniconda3/envs/lab/lib/python3.10/site-packages/torch/fx/_symbolic_trace.py:1070\u001b[0m, in \u001b[0;36msymbolic_trace\u001b[0;34m(root, concrete_args)\u001b[0m\n\u001b[1;32m   1022\u001b[0m \u001b[39m\u001b[39m\u001b[39m\"\"\"\u001b[39;00m\n\u001b[1;32m   1023\u001b[0m \u001b[39mSymbolic tracing API\u001b[39;00m\n\u001b[1;32m   1024\u001b[0m \n\u001b[0;32m   (...)\u001b[0m\n\u001b[1;32m   1067\u001b[0m \u001b[39m    GraphModule: a Module created from the recorded operations from ``root``.\u001b[39;00m\n\u001b[1;32m   1068\u001b[0m \u001b[39m\"\"\"\u001b[39;00m\n\u001b[1;32m   1069\u001b[0m tracer \u001b[39m=\u001b[39m Tracer()\n\u001b[0;32m-> 1070\u001b[0m graph \u001b[39m=\u001b[39m tracer\u001b[39m.\u001b[39;49mtrace(root, concrete_args)\n\u001b[1;32m   1071\u001b[0m name \u001b[39m=\u001b[39m (\n\u001b[1;32m   1072\u001b[0m     root\u001b[39m.\u001b[39m\u001b[39m__class__\u001b[39m\u001b[39m.\u001b[39m\u001b[39m__name__\u001b[39m \u001b[39mif\u001b[39;00m \u001b[39misinstance\u001b[39m(root, torch\u001b[39m.\u001b[39mnn\u001b[39m.\u001b[39mModule) \u001b[39melse\u001b[39;00m root\u001b[39m.\u001b[39m\u001b[39m__name__\u001b[39m\n\u001b[1;32m   1073\u001b[0m )\n\u001b[1;32m   1074\u001b[0m \u001b[39mreturn\u001b[39;00m GraphModule(tracer\u001b[39m.\u001b[39mroot, graph, name)\n",
      "File \u001b[0;32m~/miniconda3/envs/lab/lib/python3.10/site-packages/torch/fx/_symbolic_trace.py:739\u001b[0m, in \u001b[0;36mTracer.trace\u001b[0;34m(self, root, concrete_args)\u001b[0m\n\u001b[1;32m    732\u001b[0m         \u001b[39mfor\u001b[39;00m module \u001b[39min\u001b[39;00m \u001b[39mself\u001b[39m\u001b[39m.\u001b[39m_autowrap_search:\n\u001b[1;32m    733\u001b[0m             _autowrap_check(\n\u001b[1;32m    734\u001b[0m                 patcher, module\u001b[39m.\u001b[39m\u001b[39m__dict__\u001b[39m, \u001b[39mself\u001b[39m\u001b[39m.\u001b[39m_autowrap_function_ids\n\u001b[1;32m    735\u001b[0m             )\n\u001b[1;32m    736\u001b[0m         \u001b[39mself\u001b[39m\u001b[39m.\u001b[39mcreate_node(\n\u001b[1;32m    737\u001b[0m             \u001b[39m\"\u001b[39m\u001b[39moutput\u001b[39m\u001b[39m\"\u001b[39m,\n\u001b[1;32m    738\u001b[0m             \u001b[39m\"\u001b[39m\u001b[39moutput\u001b[39m\u001b[39m\"\u001b[39m,\n\u001b[0;32m--> 739\u001b[0m             (\u001b[39mself\u001b[39m\u001b[39m.\u001b[39mcreate_arg(fn(\u001b[39m*\u001b[39;49margs)),),\n\u001b[1;32m    740\u001b[0m             {},\n\u001b[1;32m    741\u001b[0m             type_expr\u001b[39m=\u001b[39mfn\u001b[39m.\u001b[39m\u001b[39m__annotations__\u001b[39m\u001b[39m.\u001b[39mget(\u001b[39m\"\u001b[39m\u001b[39mreturn\u001b[39m\u001b[39m\"\u001b[39m, \u001b[39mNone\u001b[39;00m),\n\u001b[1;32m    742\u001b[0m         )\n\u001b[1;32m    744\u001b[0m     \u001b[39mself\u001b[39m\u001b[39m.\u001b[39msubmodule_paths \u001b[39m=\u001b[39m \u001b[39mNone\u001b[39;00m\n\u001b[1;32m    745\u001b[0m \u001b[39mfinally\u001b[39;00m:\n",
      "File \u001b[0;32m~/Desktop/SparCL/models/resnet18_cifar.py:130\u001b[0m, in \u001b[0;36mResNet.forward\u001b[0;34m(self, x, returnt)\u001b[0m\n\u001b[1;32m    128\u001b[0m \u001b[39m# out = avg_pool2d(out, out.shape[2]) # -> 512, 1, 1 # ori version\u001b[39;00m\n\u001b[1;32m    129\u001b[0m \u001b[39mprint\u001b[39m(out\u001b[39m.\u001b[39mshape[\u001b[39m2\u001b[39m])\n\u001b[0;32m--> 130\u001b[0m out \u001b[39m=\u001b[39m avg_pool2d(out, out\u001b[39m.\u001b[39;49mshape[\u001b[39m2\u001b[39;49m]) \u001b[39m# -> 512, 1, 1\u001b[39;00m\n\u001b[1;32m    131\u001b[0m feature \u001b[39m=\u001b[39m out\u001b[39m.\u001b[39mview(out\u001b[39m.\u001b[39msize(\u001b[39m0\u001b[39m), \u001b[39m-\u001b[39m\u001b[39m1\u001b[39m)  \u001b[39m# 512\u001b[39;00m\n\u001b[1;32m    133\u001b[0m \u001b[39mif\u001b[39;00m returnt \u001b[39m==\u001b[39m \u001b[39m'\u001b[39m\u001b[39mfeatures\u001b[39m\u001b[39m'\u001b[39m:\n",
      "\u001b[0;31mTypeError\u001b[0m: avg_pool2d(): argument 'kernel_size' (position 2) must be tuple of ints, not Proxy"
     ]
    }
   ],
   "source": [
    "model = resnet18('seq-cifar10')\n",
    "input = torch.randn(1, 3, 32, 32)\n",
    "\n",
    "count_ops(model, input)"
   ]
  }
 ],
 "metadata": {
  "kernelspec": {
   "display_name": "lab",
   "language": "python",
   "name": "python3"
  },
  "language_info": {
   "codemirror_mode": {
    "name": "ipython",
    "version": 3
   },
   "file_extension": ".py",
   "mimetype": "text/x-python",
   "name": "python",
   "nbconvert_exporter": "python",
   "pygments_lexer": "ipython3",
   "version": "3.10.6"
  }
 },
 "nbformat": 4,
 "nbformat_minor": 2
}
